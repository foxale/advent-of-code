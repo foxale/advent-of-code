{
 "cells": [
  {
   "cell_type": "code",
   "execution_count": 48,
   "id": "413cc34c-c61a-453b-8727-76cb1060a885",
   "metadata": {},
   "outputs": [],
   "source": [
    "# part 1\n",
    "monkeys_items = []\n",
    "monkeys_ops = []\n",
    "monkeys_denominators = []\n",
    "monkeys_throw_if_true = []\n",
    "monkeys_throw_if_false = []\n",
    "\n",
    "\n",
    "with open('input.txt') as file:\n",
    "    while (line := file.readline()) != '':\n",
    "        match line.rstrip().replace(\":\", \"\").replace(\",\", \"\").split():\n",
    "            case [\"Monkey\", monkey_num]:\n",
    "                pass\n",
    "            case [\"Starting\", \"items\", *items]:\n",
    "                monkeys_items.append([int(item) for item in items])\n",
    "            case [\"Operation\", \"new\", \"=\", *op]:\n",
    "                monkeys_ops.append(''.join(op))\n",
    "            case [\"Test\", \"divisible\", \"by\", denominator]:\n",
    "                monkeys_denominators.append(int(denominator))\n",
    "            case [\"If\", \"true\", \"throw\", \"to\", \"monkey\", throw_if_true]:\n",
    "                monkeys_throw_if_true.append(int(throw_if_true))\n",
    "            case [\"If\", \"false\", \"throw\", \"to\", \"monkey\", throw_if_false]:\n",
    "                monkeys_throw_if_false.append(int(throw_if_false))\n",
    "\n",
    "monkeys_inspections = [0] * len(monkeys_items)\n",
    "\n",
    "\n",
    "for _round in range(20):\n",
    "    for monkey_i in range(len(monkeys_items)):\n",
    "        items = monkeys_items[monkey_i]\n",
    "        for old in items:\n",
    "            monkeys_inspections[monkey_i]+=1\n",
    "            worry_level = eval(monkeys_ops[monkey_i])\n",
    "            worry_level = worry_level // 3\n",
    "            if (worry_level % monkeys_denominators[monkey_i]) == 0:\n",
    "                monkey_throw_to = monkeys_throw_if_true[monkey_i]\n",
    "            else:\n",
    "                monkey_throw_to = monkeys_throw_if_false[monkey_i]\n",
    "            monkeys_items[monkey_throw_to].append(worry_level)\n",
    "            monkeys_items[monkey_i] = monkeys_items[monkey_i][1:]"
   ]
  },
  {
   "cell_type": "code",
   "execution_count": 49,
   "id": "25d847a7-bb8a-4816-bdbd-6246dd0e7854",
   "metadata": {},
   "outputs": [
    {
     "data": {
      "text/plain": [
       "[228, 237]"
      ]
     },
     "execution_count": 49,
     "metadata": {},
     "output_type": "execute_result"
    }
   ],
   "source": [
    "sorted(monkeys_inspections)[-2:]"
   ]
  },
  {
   "cell_type": "code",
   "execution_count": 40,
   "id": "a7908f8d-0ebb-4927-8412-fe3fdc3af164",
   "metadata": {},
   "outputs": [
    {
     "data": {
      "text/plain": [
       "54036"
      ]
     },
     "execution_count": 40,
     "metadata": {},
     "output_type": "execute_result"
    }
   ],
   "source": [
    "228*237"
   ]
  },
  {
   "cell_type": "code",
   "execution_count": 99,
   "id": "b429950c-afa9-4957-bb4e-279f1859b9d8",
   "metadata": {},
   "outputs": [
    {
     "data": {
      "text/plain": [
       "[71076, 35485, 88637, 106189, 17918, 109795, 56795, 120569]"
      ]
     },
     "execution_count": 99,
     "metadata": {},
     "output_type": "execute_result"
    }
   ],
   "source": [
    "# part 2\n",
    "\n",
    "monkeys_items = []\n",
    "monkeys_ops = []\n",
    "monkeys_denominators = []\n",
    "monkeys_throw_if_true = []\n",
    "monkeys_throw_if_false = []\n",
    "inital_item_values = []\n",
    "\n",
    "item_idx = 0\n",
    "\n",
    "\n",
    "with open('input.txt') as file:\n",
    "    while (line := file.readline()) != '':\n",
    "        match line.rstrip().replace(\":\", \"\").replace(\",\", \"\").split():\n",
    "            case [\"Monkey\", monkey_num]:\n",
    "                pass\n",
    "            case [\"Starting\", \"items\", *items]:\n",
    "                monkeys_items.append([])\n",
    "                for item in items:\n",
    "                    monkeys_items[-1].append(item_idx)\n",
    "                    inital_item_values.append(int(item))\n",
    "                    item_idx+=1\n",
    "            case [\"Operation\", \"new\", \"=\", *op]:\n",
    "                monkeys_ops.append(''.join(op))\n",
    "            case [\"Test\", \"divisible\", \"by\", denominator]:\n",
    "                monkeys_denominators.append(int(denominator))\n",
    "            case [\"If\", \"true\", \"throw\", \"to\", \"monkey\", throw_if_true]:\n",
    "                monkeys_throw_if_true.append(int(throw_if_true))\n",
    "            case [\"If\", \"false\", \"throw\", \"to\", \"monkey\", throw_if_false]:\n",
    "                monkeys_throw_if_false.append(int(throw_if_false))\n",
    "\n",
    "\n",
    "items_modulos = [[inital_item_values[item_idx] % denominator for denominator in monkeys_denominators] for item_idx in range(item_idx)]\n",
    "monkeys_inspections = [0] * len(monkeys_items)\n",
    "\n",
    "\n",
    "\n",
    "for _round in range(10000):\n",
    "    for monkey_i in range(len(monkeys_items)):\n",
    "        items = monkeys_items[monkey_i]\n",
    "        for item in items:\n",
    "            monkeys_inspections[monkey_i]+=1\n",
    "            for denominator_idx, denominator in enumerate(monkeys_denominators):\n",
    "                old = items_modulos[item][denominator_idx]\n",
    "                items_modulos[item][denominator_idx] = eval(monkeys_ops[monkey_i]) % denominator\n",
    "            if items_modulos[item][monkey_i] == 0:\n",
    "                monkey_throw_to = monkeys_throw_if_true[monkey_i]\n",
    "            else:\n",
    "                monkey_throw_to = monkeys_throw_if_false[monkey_i]\n",
    "            monkeys_items[monkey_throw_to].append(item)\n",
    "            monkeys_items[monkey_i] = monkeys_items[monkey_i][1:]\n",
    "\n",
    "monkeys_inspections"
   ]
  },
  {
   "cell_type": "code",
   "execution_count": 100,
   "id": "78552221-1295-4aee-b6eb-72a08732a3fb",
   "metadata": {},
   "outputs": [
    {
     "data": {
      "text/plain": [
       "[109795, 120569]"
      ]
     },
     "execution_count": 100,
     "metadata": {},
     "output_type": "execute_result"
    }
   ],
   "source": [
    "sorted(monkeys_inspections)[-2:]"
   ]
  },
  {
   "cell_type": "code",
   "execution_count": 101,
   "id": "ff2f0f39-1dc3-4b86-a3f0-f36b348ed8b8",
   "metadata": {},
   "outputs": [
    {
     "data": {
      "text/plain": [
       "13237873355"
      ]
     },
     "execution_count": 101,
     "metadata": {},
     "output_type": "execute_result"
    }
   ],
   "source": [
    "109795*120569"
   ]
  }
 ],
 "metadata": {
  "kernelspec": {
   "display_name": "Python 3 (ipykernel)",
   "language": "python",
   "name": "python3"
  },
  "language_info": {
   "codemirror_mode": {
    "name": "ipython",
    "version": 3
   },
   "file_extension": ".py",
   "mimetype": "text/x-python",
   "name": "python",
   "nbconvert_exporter": "python",
   "pygments_lexer": "ipython3",
   "version": "3.10.8"
  }
 },
 "nbformat": 4,
 "nbformat_minor": 5
}
