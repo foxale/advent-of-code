{
 "cells": [
  {
   "cell_type": "code",
   "execution_count": 23,
   "id": "c26f9a2f-8c11-4537-8320-97becf8c2ba3",
   "metadata": {},
   "outputs": [],
   "source": [
    "def parse_point(point: str) -> tuple[int, int]:\n",
    "    return tuple(int(coord) for coord in point.split(','))"
   ]
  },
  {
   "cell_type": "code",
   "execution_count": 24,
   "id": "8e7745cc-9fc9-4214-a9cb-76dc5f75cd68",
   "metadata": {},
   "outputs": [],
   "source": [
    "def sign(num: int) -> int:\n",
    "    return -1 if num < 0 else (1 if num > 0 else 0)"
   ]
  },
  {
   "cell_type": "code",
   "execution_count": 25,
   "id": "d5421008-c036-4957-803c-138a96460796",
   "metadata": {},
   "outputs": [],
   "source": [
    "from collections import defaultdict\n",
    "\n",
    "def parse_file() -> defaultdict[int, dict[int, str]]:\n",
    "    grid = defaultdict(dict)\n",
    "    with open('input.txt') as file: \n",
    "        while (line := file.readline()) != '':\n",
    "            prev_point, next_point = None, None\n",
    "            for point in line.split(' -> '):\n",
    "                prev_point, next_point = next_point or point, point\n",
    "                prev_ = parse_point(prev_point)\n",
    "                next_ = parse_point(next_point)\n",
    "                vector = (next_[0] - prev_[0], next_[1] - prev_[1])\n",
    "                step = (sign(vector[0]), sign(vector[1]))\n",
    "                grid[prev_[0]][prev_[1]] = 'r'\n",
    "                while vector != (0, 0):\n",
    "                    prev_ = (prev_[0]+step[0], prev_[1]+step[1])\n",
    "                    vector = (vector[0]-step[0], vector[1]-step[1])\n",
    "                    grid[prev_[0]][prev_[1]] = 'r'\n",
    "    return grid"
   ]
  },
  {
   "cell_type": "code",
   "execution_count": 31,
   "id": "726a169d-e280-497c-b5a9-0a99a407fe67",
   "metadata": {},
   "outputs": [
    {
     "data": {
      "text/plain": [
       "1078"
      ]
     },
     "execution_count": 31,
     "metadata": {},
     "output_type": "execute_result"
    }
   ],
   "source": [
    "# part 1\n",
    "grid = parse_file()\n",
    "pour_sand = True\n",
    "floor = max(max(rows.keys() for rows in grid.values()))\n",
    "unit_of_sand = 0\n",
    "while pour_sand:\n",
    "    unit_of_sand+=1\n",
    "    sand = (500, 0)\n",
    "    sand_moving = True\n",
    "    while sand_moving:\n",
    "        if sand[1] >= floor:\n",
    "            pour_sand = False\n",
    "            break\n",
    "        try:\n",
    "            grid[sand[0]][sand[1]+1]\n",
    "        except KeyError:\n",
    "            sand = (\n",
    "                sand[0], \n",
    "                min(row for row in grid[sand[0]] if row >= sand[1])-1\n",
    "            )\n",
    "        try:\n",
    "            grid[sand[0]-1][sand[1]+1]\n",
    "        except KeyError:\n",
    "            sand = (\n",
    "                sand[0]-1, \n",
    "                sand[1]+1\n",
    "            )\n",
    "            continue\n",
    "        else:\n",
    "            try:\n",
    "                grid[sand[0]+1][sand[1]+1]\n",
    "            except KeyError:\n",
    "                sand = (\n",
    "                    sand[0]+1, \n",
    "                    sand[1]+1\n",
    "                )   \n",
    "            else:\n",
    "                grid[sand[0]][sand[1]] = 's'\n",
    "                sand_moving = False\n",
    "\n",
    "unit_of_sand-1"
   ]
  },
  {
   "cell_type": "code",
   "execution_count": 30,
   "id": "277eb142-875b-407f-a74e-4e882c98282a",
   "metadata": {},
   "outputs": [
    {
     "data": {
      "text/plain": [
       "30157"
      ]
     },
     "execution_count": 30,
     "metadata": {},
     "output_type": "execute_result"
    }
   ],
   "source": [
    "# part 2\n",
    "grid = parse_file()\n",
    "pour_sand = True\n",
    "floor = max(max(rows.keys() for rows in grid.values())) + 2\n",
    "unit_of_sand = 0\n",
    "while pour_sand:\n",
    "    unit_of_sand+=1\n",
    "    sand = (500, 0)\n",
    "    sand_moving = True\n",
    "    while sand_moving:\n",
    "        grid[sand[0]][floor] = 'f'\n",
    "        grid[sand[0]-1][floor] = 'f'\n",
    "        grid[sand[0]+1][floor] = 'f'\n",
    "        try:\n",
    "            grid[sand[0]][sand[1]+1]\n",
    "        except KeyError:\n",
    "            sand = (\n",
    "                sand[0], \n",
    "                min(row for row in grid[sand[0]] if row >= sand[1])-1\n",
    "            )\n",
    "        try:\n",
    "            grid[sand[0]-1][sand[1]+1]\n",
    "        except KeyError:\n",
    "            sand = (\n",
    "                sand[0]-1, \n",
    "                sand[1]+1\n",
    "            )\n",
    "            continue\n",
    "        else:\n",
    "            try:\n",
    "                grid[sand[0]+1][sand[1]+1]\n",
    "            except KeyError:\n",
    "                sand = (\n",
    "                    sand[0]+1, \n",
    "                    sand[1]+1\n",
    "                )   \n",
    "            else:\n",
    "                if sand == (500, 0):\n",
    "                    pour_sand = False\n",
    "                    break\n",
    "                grid[sand[0]][sand[1]] = 's'\n",
    "                sand_moving = False\n",
    "unit_of_sand"
   ]
  }
 ],
 "metadata": {
  "kernelspec": {
   "display_name": "Python 3 (ipykernel)",
   "language": "python",
   "name": "python3"
  },
  "language_info": {
   "codemirror_mode": {
    "name": "ipython",
    "version": 3
   },
   "file_extension": ".py",
   "mimetype": "text/x-python",
   "name": "python",
   "nbconvert_exporter": "python",
   "pygments_lexer": "ipython3",
   "version": "3.10.8"
  }
 },
 "nbformat": 4,
 "nbformat_minor": 5
}
