{
 "cells": [
  {
   "cell_type": "code",
   "execution_count": 6,
   "id": "7162af1e-7bba-4fd2-9444-2afd91e82cf4",
   "metadata": {},
   "outputs": [
    {
     "data": {
      "text/plain": [
       "1855"
      ]
     },
     "execution_count": 6,
     "metadata": {},
     "output_type": "execute_result"
    }
   ],
   "source": [
    "# part 1\n",
    "\n",
    "from collections import deque\n",
    "last_four = deque()\n",
    "\n",
    "\n",
    "with open('input.txt') as file: \n",
    "    file_end = False\n",
    "    char_num = 1\n",
    "    while not file_end:\n",
    "        char = file.read(1)\n",
    "\n",
    "        if not char:\n",
    "            file_end = True\n",
    "            raise EOFError\n",
    "        \n",
    "        while char in last_four:\n",
    "            last_four.popleft()\n",
    "        last_four.append(char)\n",
    "        \n",
    "        if len(last_four) == 4:\n",
    "            break\n",
    "            \n",
    "        char_num+=1\n",
    "char_num"
   ]
  },
  {
   "cell_type": "code",
   "execution_count": 8,
   "id": "5094a560-a868-4db0-9c36-f441c8d847a7",
   "metadata": {},
   "outputs": [
    {
     "data": {
      "text/plain": [
       "3256"
      ]
     },
     "execution_count": 8,
     "metadata": {},
     "output_type": "execute_result"
    }
   ],
   "source": [
    "# part 2\n",
    "\n",
    "from collections import deque\n",
    "last_fourteen = deque()\n",
    "\n",
    "\n",
    "with open('input.txt') as file: \n",
    "    file_end = False\n",
    "    char_num = 1\n",
    "    while not file_end:\n",
    "        char = file.read(1)\n",
    "\n",
    "        if not char:\n",
    "            file_end = True\n",
    "            raise EOFError\n",
    "        \n",
    "        while char in last_fourteen:\n",
    "            last_fourteen.popleft()\n",
    "        last_fourteen.append(char)\n",
    "        \n",
    "        if len(last_fourteen) == 14:\n",
    "            break\n",
    "            \n",
    "        char_num+=1\n",
    "char_num"
   ]
  },
  {
   "cell_type": "code",
   "execution_count": null,
   "id": "f8f38f61-9f92-4d87-a913-7dc1e8d7b836",
   "metadata": {},
   "outputs": [],
   "source": []
  }
 ],
 "metadata": {
  "kernelspec": {
   "display_name": "Python 3 (ipykernel)",
   "language": "python",
   "name": "python3"
  },
  "language_info": {
   "codemirror_mode": {
    "name": "ipython",
    "version": 3
   },
   "file_extension": ".py",
   "mimetype": "text/x-python",
   "name": "python",
   "nbconvert_exporter": "python",
   "pygments_lexer": "ipython3",
   "version": "3.10.8"
  }
 },
 "nbformat": 4,
 "nbformat_minor": 5
}
