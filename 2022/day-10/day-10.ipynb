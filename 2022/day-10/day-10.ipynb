{
 "cells": [
  {
   "cell_type": "code",
   "execution_count": 13,
   "id": "653542ec-51b3-4f2e-ab1d-5fd6dc0eccb7",
   "metadata": {},
   "outputs": [
    {
     "name": "stdout",
     "output_type": "stream",
     "text": [
      "###..####.####.#..#.####.####.#..#..##..\n",
      "#..#....#.#....#.#..#....#....#..#.#..#.\n",
      "#..#...#..###..##...###..###..####.#..#.\n",
      "###...#...#....#.#..#....#....#..#.####.\n",
      "#.#..#....#....#.#..#....#....#..#.#..#.\n",
      "#..#.####.####.#..#.####.#....#..#.#..#.\n",
      "."
     ]
    }
   ],
   "source": [
    "x = 1\n",
    "cycle = 1\n",
    "addx = None\n",
    "total = 0\n",
    "\n",
    "with open('input.txt') as file: \n",
    "    eof = False\n",
    "    \n",
    "    while not eof:\n",
    "        \n",
    "        # part 1\n",
    "        if cycle in (20, 60, 100, 140, 180, 220):\n",
    "            total += cycle * x \n",
    "            \n",
    "        # part 2\n",
    "        pixel_drawn = (cycle-1) % 40\n",
    "        if pixel_drawn == 39:\n",
    "            end = '\\n'\n",
    "        else: \n",
    "            end = ''\n",
    "        \n",
    "        if pixel_drawn in (x-1, x, x+1):\n",
    "            print('#', end=end)\n",
    "        else:\n",
    "            print('.', end=end)\n",
    "        \n",
    "        if addx:\n",
    "            x += addx\n",
    "            addx = None\n",
    "        \n",
    "        else:\n",
    "            line = file.readline()\n",
    "            match line.rstrip().split():\n",
    "                case [\"noop\"]:\n",
    "                    pass\n",
    "                case [\"addx\", val]:\n",
    "                    addx = int(val)\n",
    "                case []:\n",
    "                    eof = True\n",
    "        cycle+=1\n",
    "            "
   ]
  },
  {
   "cell_type": "code",
   "execution_count": 14,
   "id": "a4db7767-7e66-42dd-9a03-449b2e447b28",
   "metadata": {},
   "outputs": [
    {
     "data": {
      "text/plain": [
       "14820"
      ]
     },
     "execution_count": 14,
     "metadata": {},
     "output_type": "execute_result"
    }
   ],
   "source": [
    "total"
   ]
  }
 ],
 "metadata": {
  "kernelspec": {
   "display_name": "Python 3 (ipykernel)",
   "language": "python",
   "name": "python3"
  },
  "language_info": {
   "codemirror_mode": {
    "name": "ipython",
    "version": 3
   },
   "file_extension": ".py",
   "mimetype": "text/x-python",
   "name": "python",
   "nbconvert_exporter": "python",
   "pygments_lexer": "ipython3",
   "version": "3.10.8"
  }
 },
 "nbformat": 4,
 "nbformat_minor": 5
}
