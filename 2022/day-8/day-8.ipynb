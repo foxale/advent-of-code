{
 "cells": [
  {
   "cell_type": "code",
   "execution_count": 2,
   "id": "28f3ab06-9797-4acc-9973-b87a57af2609",
   "metadata": {},
   "outputs": [],
   "source": [
    "!poetry add numpy -q"
   ]
  },
  {
   "cell_type": "code",
   "execution_count": 3,
   "id": "4a3615b8-6793-449e-b90d-f80f5986abc5",
   "metadata": {},
   "outputs": [],
   "source": [
    "import numpy as np"
   ]
  },
  {
   "cell_type": "code",
   "execution_count": 85,
   "id": "0768b4b5-0d7f-4c9a-bc9f-df0fc19cc7d4",
   "metadata": {},
   "outputs": [],
   "source": [
    "grid = []\n",
    "\n",
    "with open('input.txt') as file:\n",
    "    while (line := file.readline()) != '': \n",
    "        arr = np.array([int(el) for el in list(line.strip())])\n",
    "        grid.append(arr)\n",
    "\n",
    "grid = np.array(grid)"
   ]
  },
  {
   "cell_type": "code",
   "execution_count": 117,
   "id": "d85e57e3-6d30-41e4-bd82-a093d64b7bd2",
   "metadata": {},
   "outputs": [
    {
     "data": {
      "text/plain": [
       "1849"
      ]
     },
     "execution_count": 117,
     "metadata": {},
     "output_type": "execute_result"
    }
   ],
   "source": [
    "# part 1\n",
    "def visible_vec(grid: np.ndarray) -> np.ndarray:\n",
    "    rows, cols = grid.shape\n",
    "    max_h = np.full(rows, -1)\n",
    "    visible_trees = np.ndarray(shape=grid.shape, dtype=bool)\n",
    "    for col in range(cols):\n",
    "        visible_trees[col] = (max_h < grid.T[col])\n",
    "        max_h = np.maximum(max_h, grid.T[col])\n",
    "    return visible_trees.T\n",
    "\n",
    "visible_right = visible_vec(grid)\n",
    "visible_down = visible_vec(grid.T).T\n",
    "visible_left = np.flip(visible_vec(np.flip(grid, 1)), 1)\n",
    "visible_up = np.flip(visible_vec(np.flip(grid.T, 1)), 1).T\n",
    "\n",
    "visible = visible_right | visible_down | visible_left | visible_up\n",
    "\n",
    "np.sum(visible)"
   ]
  },
  {
   "cell_type": "code",
   "execution_count": 186,
   "id": "6ba4d205-8b21-4e39-a25d-a3085fc6fc88",
   "metadata": {
    "tags": []
   },
   "outputs": [],
   "source": [
    "# part 2\n",
    "\n",
    "def scenic_score(tree_line: np.array) -> np.array:\n",
    "    furthest_tree_of_certain_height = np.zeros(10)\n",
    "    scenic_score = np.full(len(tree_line), -1)\n",
    "    for i, tree in enumerate(tree_line):\n",
    "        furtherst_tree_not_smaller = furthest_tree_of_certain_height[tree]\n",
    "        furthest_tree_of_certain_height[:tree+1] = i\n",
    "        scenic_score[i] = i-furtherst_tree_not_smaller\n",
    "    return scenic_score\n",
    "\n",
    "score_right = np.apply_along_axis(scenic_score, 1, grid)\n",
    "score_down = np.apply_along_axis(scenic_score, 0, grid)\n",
    "score_left = np.flip(np.apply_along_axis(scenic_score, 1, np.flip(grid, 1)), 1)\n",
    "score_up = np.flip(np.apply_along_axis(scenic_score, 0, np.flip(grid, 0)), 0)"
   ]
  },
  {
   "cell_type": "code",
   "execution_count": 193,
   "id": "e4b705b5-037c-42a1-9172-a71f334cad39",
   "metadata": {},
   "outputs": [
    {
     "data": {
      "text/plain": [
       "201600"
      ]
     },
     "execution_count": 193,
     "metadata": {},
     "output_type": "execute_result"
    }
   ],
   "source": [
    "score = score_right * score_down * score_left * score_up\n",
    "\n",
    "np.max(score)"
   ]
  },
  {
   "cell_type": "code",
   "execution_count": null,
   "id": "2456218a-8c48-44c7-ba03-4460143c3a45",
   "metadata": {},
   "outputs": [],
   "source": []
  }
 ],
 "metadata": {
  "kernelspec": {
   "display_name": "Python 3 (ipykernel)",
   "language": "python",
   "name": "python3"
  },
  "language_info": {
   "codemirror_mode": {
    "name": "ipython",
    "version": 3
   },
   "file_extension": ".py",
   "mimetype": "text/x-python",
   "name": "python",
   "nbconvert_exporter": "python",
   "pygments_lexer": "ipython3",
   "version": "3.10.8"
  }
 },
 "nbformat": 4,
 "nbformat_minor": 5
}
