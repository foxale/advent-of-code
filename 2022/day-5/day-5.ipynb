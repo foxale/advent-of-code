{
 "cells": [
  {
   "cell_type": "code",
   "execution_count": 37,
   "id": "124d8864-3d5f-42cb-85c3-16e3ae6a3fdb",
   "metadata": {},
   "outputs": [
    {
     "name": "stdout",
     "output_type": "stream",
     "text": [
      "deque(['W'])\n",
      "deque(['S'])\n",
      "deque(['H', 'V', 'R', 'D', 'J', 'F'])\n",
      "deque(['S', 'T'])\n",
      "deque(['F', 'W', 'M'])\n",
      "deque(['C', 'V', 'V', 'S', 'L', 'L', 'M', 'L', 'M', 'R'])\n",
      "deque(['F', 'G', 'G', 'J', 'P', 'F', 'B', 'H', 'B', 'Q', 'B', 'L', 'Z', 'C', 'P', 'G', 'F', 'J', 'F', 'H'])\n",
      "deque(['C', 'F', 'M', 'H', 'T', 'Q', 'Z', 'Q', 'C', 'P'])\n",
      "deque(['Z', 'W', 'P'])\n",
      "WSFTMRHPP\n"
     ]
    }
   ],
   "source": [
    "# part 1\n",
    "from collections import deque\n",
    "stacks = {i: deque() for i in range(9)}\n",
    "\n",
    "def chunks(lst, n):\n",
    "    \"\"\"Yield successive n-sized chunks from lst.\"\"\"\n",
    "    for i in range(0, len(lst), n):\n",
    "        yield lst[i:i + n]\n",
    "        \n",
    "with open('input.txt') as file: \n",
    "    while (line := file.readline()) != '\\n':\n",
    "        for stack, chunk in enumerate(chunks(line, 4)):\n",
    "            letter = chunk[1]\n",
    "            if ord('A') <= ord(letter) <= ord('Z'):\n",
    "                stacks[stack].appendleft(letter)\n",
    "    \n",
    "    while (line := file.readline()).startswith('move'):\n",
    "        command_parts = line.strip().split(' ')\n",
    "        num_containers = int(command_parts[1])\n",
    "        from_stack = int(command_parts[3])\n",
    "        to_stack  = int(command_parts[5])\n",
    "\n",
    "        for _ in range(num_containers):\n",
    "            moved_container = stacks[from_stack-1].pop()\n",
    "            stacks[to_stack-1].append(moved_container)      \n",
    "    \n",
    "final_msg = ''\n",
    "for stack_num, stack in stacks.items():\n",
    "    print(stack)\n",
    "    final_msg = final_msg + stack.pop()\n",
    "\n",
    "print(final_msg)"
   ]
  },
  {
   "cell_type": "code",
   "execution_count": 41,
   "id": "30789185-aa49-44aa-bd1a-57a04ac79038",
   "metadata": {},
   "outputs": [
    {
     "name": "stdout",
     "output_type": "stream",
     "text": [
      "deque(['G'])\n",
      "deque(['S'])\n",
      "deque(['Q', 'M', 'L', 'J', 'S', 'L'])\n",
      "deque(['F', 'C'])\n",
      "deque(['Z', 'T', 'M'])\n",
      "deque(['J', 'Q', 'J', 'T', 'Z', 'M', 'H', 'F', 'M', 'F'])\n",
      "deque(['P', 'C', 'Q', 'P', 'P', 'L', 'B', 'W', 'C', 'H', 'L', 'Z', 'F', 'W', 'V', 'D', 'W', 'V', 'G', 'B'])\n",
      "deque(['G', 'R', 'V', 'H', 'H', 'B', 'F', 'F', 'S', 'R'])\n",
      "deque(['F', 'C', 'P'])\n",
      "GSLCMFBRP\n"
     ]
    }
   ],
   "source": [
    "# part 2\n",
    "from collections import deque\n",
    "stacks = {i: deque() for i in range(9)}\n",
    "\n",
    "def chunks(lst, n):\n",
    "    \"\"\"Yield successive n-sized chunks from lst.\"\"\"\n",
    "    for i in range(0, len(lst), n):\n",
    "        yield lst[i:i + n]\n",
    "        \n",
    "with open('input.txt') as file: \n",
    "    while (line := file.readline()) != '\\n':\n",
    "        for stack, chunk in enumerate(chunks(line, 4)):\n",
    "            letter = chunk[1]\n",
    "            if ord('A') <= ord(letter) <= ord('Z'):\n",
    "                stacks[stack].appendleft(letter)\n",
    "    \n",
    "    while (line := file.readline()).startswith('move'):\n",
    "        command_parts = line.strip().split(' ')\n",
    "        num_containers = int(command_parts[1])\n",
    "        from_stack = int(command_parts[3])\n",
    "        to_stack  = int(command_parts[5])\n",
    "\n",
    "        moved_containers = deque()\n",
    "        for _ in range(num_containers):\n",
    "            moved_container = stacks[from_stack-1].pop()\n",
    "            moved_containers.appendleft(moved_container)            \n",
    "        stacks[to_stack-1] += moved_containers      \n",
    "    \n",
    "final_msg = ''\n",
    "for stack_num, stack in stacks.items():\n",
    "    print(stack)\n",
    "    final_msg = final_msg + stack.pop()\n",
    "\n",
    "print(final_msg)"
   ]
  },
  {
   "cell_type": "code",
   "execution_count": null,
   "id": "849dca82-a911-4946-ba61-3d4dd6613fb1",
   "metadata": {},
   "outputs": [],
   "source": []
  }
 ],
 "metadata": {
  "kernelspec": {
   "display_name": "Python 3 (ipykernel)",
   "language": "python",
   "name": "python3"
  },
  "language_info": {
   "codemirror_mode": {
    "name": "ipython",
    "version": 3
   },
   "file_extension": ".py",
   "mimetype": "text/x-python",
   "name": "python",
   "nbconvert_exporter": "python",
   "pygments_lexer": "ipython3",
   "version": "3.10.8"
  }
 },
 "nbformat": 4,
 "nbformat_minor": 5
}
