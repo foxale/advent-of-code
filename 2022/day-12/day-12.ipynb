{
 "cells": [
  {
   "cell_type": "code",
   "execution_count": 171,
   "id": "9f764e42-f801-4279-8912-5668cbfc300b",
   "metadata": {},
   "outputs": [],
   "source": [
    "from contextlib import suppress\n",
    "grid = []\n",
    "row = 0\n",
    "start, end = None, None\n",
    "\n",
    "def ord_(letter: str) -> int:\n",
    "    match letter:\n",
    "        case 'S':\n",
    "            return ord('a')\n",
    "        case 'E':\n",
    "            return ord('z')\n",
    "        case other:\n",
    "            return ord(other)\n",
    "        \n",
    "with open('input.txt') as file:\n",
    "    while (line := file.readline()) != '':\n",
    "        grid.append([ord_(letter) for letter in list(line.rstrip())])\n",
    "        with suppress(ValueError):\n",
    "            start = (line.index('S'), row)\n",
    "        with suppress(ValueError):\n",
    "            end = (line.index('E'), row)\n",
    "        row+=1"
   ]
  },
  {
   "cell_type": "code",
   "execution_count": null,
   "id": "fa013284-e85f-4671-ac92-185ef302b27c",
   "metadata": {},
   "outputs": [],
   "source": [
    "# visited = set()\n",
    "\n",
    "# def dfs(grid: list[list[str]], node: tuple[int, int], visited: set[int]):\n",
    "#     visited.add(node)\n",
    "#     current_height = grid[node[0]][node[1]]\n",
    "#     neighbors = (\n",
    "#         (tile[0]-1, tile[1]), \n",
    "#         (tile[0]+1, tile[1]),\n",
    "#         (tile[0], tile[1]-1),\n",
    "#         (tile[0], tile[1]+1)\n",
    "#     )\n",
    "#     for neighbor in neighbors:\n",
    "#         if neighbor not in visited \\\n",
    "#         and (0 <= neighbor[0] <= len(grid[0])) \\\n",
    "#         and (0 <= neighbor[1] <= len(grid)) \\\n",
    "#         and ((grid[neighbor[0]][neighbor[1]] - current_height <= 1)\n",
    "#              or grid[neighbor[0]][neighbor[1]] == 'E'):\n",
    "#             dfs(grid, neighbor, visited)\n",
    "    \n",
    "# dfs(start)\n"
   ]
  },
  {
   "cell_type": "code",
   "execution_count": 157,
   "id": "0f966797-a1e7-4db2-82ac-81499ee51f90",
   "metadata": {},
   "outputs": [],
   "source": [
    "from collections import deque\n",
    "\n",
    "def bfs(grid: list[list[str]], start: tuple[int, int], end: tuple[int, int]):\n",
    "    visited = {start: 0}\n",
    "    queue = deque([start])\n",
    "    while queue:\n",
    "        current = queue.popleft()\n",
    "        if current == end:\n",
    "            return current_steps\n",
    "        current_steps = visited[current]\n",
    "        current_height = grid[current[1]][current[0]]\n",
    "        neighbors = (\n",
    "            (current[0]-1, current[1]), \n",
    "            (current[0]+1, current[1]),\n",
    "            (current[0], current[1]-1),\n",
    "            (current[0], current[1]+1)\n",
    "        )\n",
    "        for neighbor in neighbors:\n",
    "            if neighbor not in visited \\\n",
    "            and (0 <= neighbor[0] < len(grid[0])) \\\n",
    "            and (0 <= neighbor[1] < len(grid)) \\\n",
    "            and (grid[neighbor[1]][neighbor[0]] - current_height <= 1):\n",
    "                queue.append(neighbor)\n",
    "                visited[neighbor] = current_steps+1\n",
    "        \n",
    "            "
   ]
  },
  {
   "cell_type": "code",
   "execution_count": 158,
   "id": "4fd9935b-17d1-4e23-b900-91208802e37d",
   "metadata": {},
   "outputs": [
    {
     "data": {
      "text/plain": [
       "472"
      ]
     },
     "execution_count": 158,
     "metadata": {},
     "output_type": "execute_result"
    }
   ],
   "source": [
    "bfs(grid, start, end)"
   ]
  },
  {
   "cell_type": "code",
   "execution_count": 172,
   "id": "2c8a6357-cf0d-4ec3-8139-49ef43b38797",
   "metadata": {},
   "outputs": [],
   "source": [
    "from collections import deque\n",
    "\n",
    "def bfs(grid: list[list[str]], start: tuple[int, int], end: str):\n",
    "    visited = {start: 0}\n",
    "    queue = deque([start])\n",
    "    while queue:\n",
    "        current = queue.popleft()\n",
    "        current_steps = visited[current]\n",
    "        current_height = grid[current[1]][current[0]]\n",
    "        if current_height == ord_('a'):\n",
    "            return current_steps\n",
    "        neighbors = (\n",
    "            (current[0]-1, current[1]), \n",
    "            (current[0]+1, current[1]),\n",
    "            (current[0], current[1]-1),\n",
    "            (current[0], current[1]+1)\n",
    "        )\n",
    "        for neighbor in neighbors:\n",
    "            if neighbor not in visited \\\n",
    "            and (0 <= neighbor[0] < len(grid[0])) \\\n",
    "            and (0 <= neighbor[1] < len(grid)) \\\n",
    "            and (grid[neighbor[1]][neighbor[0]] - current_height >= -1):\n",
    "                queue.append(neighbor)\n",
    "                visited[neighbor] = current_steps+1\n",
    "        "
   ]
  },
  {
   "cell_type": "code",
   "execution_count": 173,
   "id": "e0b7f490-f4a4-409d-a2f3-dcb90def5656",
   "metadata": {},
   "outputs": [
    {
     "data": {
      "text/plain": [
       "29"
      ]
     },
     "execution_count": 173,
     "metadata": {},
     "output_type": "execute_result"
    }
   ],
   "source": [
    "bfs(grid, start=end, end='a')"
   ]
  },
  {
   "cell_type": "code",
   "execution_count": 166,
   "id": "2569320a-a7c3-406e-8f45-1ad23bc41d03",
   "metadata": {},
   "outputs": [
    {
     "data": {
      "text/plain": [
       "1"
      ]
     },
     "execution_count": 166,
     "metadata": {},
     "output_type": "execute_result"
    }
   ],
   "source": [
    "ord_('z') - ord_('y')"
   ]
  },
  {
   "cell_type": "code",
   "execution_count": null,
   "id": "ddc42756-19c9-4ebf-a59b-8cdd23d42a22",
   "metadata": {},
   "outputs": [],
   "source": []
  }
 ],
 "metadata": {
  "kernelspec": {
   "display_name": "Python 3 (ipykernel)",
   "language": "python",
   "name": "python3"
  },
  "language_info": {
   "codemirror_mode": {
    "name": "ipython",
    "version": 3
   },
   "file_extension": ".py",
   "mimetype": "text/x-python",
   "name": "python",
   "nbconvert_exporter": "python",
   "pygments_lexer": "ipython3",
   "version": "3.10.8"
  }
 },
 "nbformat": 4,
 "nbformat_minor": 5
}
