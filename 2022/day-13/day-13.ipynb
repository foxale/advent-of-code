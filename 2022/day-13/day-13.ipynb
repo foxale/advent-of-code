{
 "cells": [
  {
   "cell_type": "code",
   "execution_count": 109,
   "id": "2914a5e2-6d88-4bb8-82d8-73ffc81c2638",
   "metadata": {},
   "outputs": [],
   "source": [
    "# part 1"
   ]
  },
  {
   "cell_type": "code",
   "execution_count": 110,
   "id": "35a692b5-2b1e-411b-a7f3-62b71549d05f",
   "metadata": {},
   "outputs": [],
   "source": [
    "sign = lambda x: -1 if x < 0 else (1 if x > 0 else 0)"
   ]
  },
  {
   "cell_type": "code",
   "execution_count": 111,
   "id": "0ba68841-392a-4ef3-b5ee-8bba1bf9e372",
   "metadata": {},
   "outputs": [],
   "source": [
    "def compare(left: list, right: list) -> bool:\n",
    "    for left_i, left_el in enumerate(left):\n",
    "        try:\n",
    "            right_el = right[left_i]\n",
    "        except IndexError:\n",
    "            return -1\n",
    "        if isinstance(left_el, list) and isinstance(right_el, list):\n",
    "            result = compare(left=left_el, right=right_el)\n",
    "        elif isinstance(left_el, list) and not isinstance(right_el, list):\n",
    "            result = compare(left=left_el, right=[right_el])\n",
    "        elif not isinstance(left_el, list) and isinstance(right_el, list):\n",
    "            result = compare(left=[left_el], right=right_el)\n",
    "        else:\n",
    "            result = sign(right_el - left_el)\n",
    "        if result:\n",
    "            return result\n",
    "    if len(left) < len(right):\n",
    "        return 1\n",
    "    else:\n",
    "        return 0"
   ]
  },
  {
   "cell_type": "code",
   "execution_count": 112,
   "id": "9a401c44-c746-49ba-b661-cee226e9f942",
   "metadata": {},
   "outputs": [],
   "source": [
    "with open('input.txt') as file: \n",
    "    eof = False\n",
    "    idx = 1\n",
    "    correct_pairs = set()\n",
    "    while not eof: \n",
    "        left = eval(file.readline().strip())\n",
    "        right = eval(file.readline().strip())\n",
    "        newline = file.readline()\n",
    "        \n",
    "        result = compare(left=left, right=right)\n",
    "        if result == 1:\n",
    "            correct_pairs.add(idx)\n",
    "            \n",
    "        if newline == '':\n",
    "            eof = True\n",
    "            break\n",
    "        idx+=1"
   ]
  },
  {
   "cell_type": "code",
   "execution_count": 113,
   "id": "e98b02c3-84ed-408a-9dd2-f15e7d432c6b",
   "metadata": {},
   "outputs": [],
   "source": [
    "# part 1\n",
    "\n",
    "packets = []\n",
    "with open('input.txt') as file: \n",
    "    while (line := file.readline()) != '': \n",
    "        if line == '\\n':\n",
    "            continue\n",
    "        packets.append(eval(line.strip()))"
   ]
  },
  {
   "cell_type": "code",
   "execution_count": 114,
   "id": "44131338-d8b4-429c-a4f1-dbef5b460238",
   "metadata": {},
   "outputs": [],
   "source": [
    "elements_to_add =  [ [[2]], [[6]] ]\n",
    "packets += elements_to_add"
   ]
  },
  {
   "cell_type": "code",
   "execution_count": 115,
   "id": "4187b8a4-524c-4e1f-b633-9f1231f97436",
   "metadata": {},
   "outputs": [],
   "source": [
    "from functools import cmp_to_key \n",
    "packets_sorted = sorted(packets, key=cmp_to_key(compare), reverse=True)"
   ]
  },
  {
   "cell_type": "code",
   "execution_count": 116,
   "id": "dfbb4a3c-a5a5-48a2-ac03-da9b0381a25c",
   "metadata": {},
   "outputs": [
    {
     "data": {
      "text/plain": [
       "22852"
      ]
     },
     "execution_count": 116,
     "metadata": {},
     "output_type": "execute_result"
    }
   ],
   "source": [
    "(packets_sorted.index(elements_to_add[0])+1) * (packets_sorted.index(elements_to_add[1])+1)"
   ]
  }
 ],
 "metadata": {
  "kernelspec": {
   "display_name": "Python 3 (ipykernel)",
   "language": "python",
   "name": "python3"
  },
  "language_info": {
   "codemirror_mode": {
    "name": "ipython",
    "version": 3
   },
   "file_extension": ".py",
   "mimetype": "text/x-python",
   "name": "python",
   "nbconvert_exporter": "python",
   "pygments_lexer": "ipython3",
   "version": "3.10.8"
  }
 },
 "nbformat": 4,
 "nbformat_minor": 5
}
