{
 "cells": [
  {
   "cell_type": "code",
   "execution_count": 105,
   "id": "1043cff7-0e15-484f-bcbe-14e13ec2161c",
   "metadata": {
    "tags": []
   },
   "outputs": [],
   "source": [
    "from collections import deque\n",
    "\n",
    "path = ['/']\n",
    "dir_sizes = {}\n",
    "\n",
    "def path_to_key(path):\n",
    "    return '/'.join(path).replace('//', '/')\n",
    "\n",
    "with open('input.txt') as file:\n",
    "    while (line := file.readline()) != '':\n",
    "        match line.rstrip().split(' '):\n",
    "            case [\"$\", \"cd\", \"/\"]:\n",
    "                path = ['/']\n",
    "            case [\"$\", \"cd\", \"..\"]:\n",
    "                path.pop()\n",
    "            case [\"$\", \"cd\", dir_name]:\n",
    "                path.append(dir_name)\n",
    "            case [\"$\", \"ls\"]:\n",
    "                pass\n",
    "            case [\"dir\", dir_name]:\n",
    "                pass\n",
    "            case [size, _]:\n",
    "                for level, _ in enumerate(path, start=1):\n",
    "                    path_slice = path[:level]\n",
    "                    path_key = path_to_key(path_slice)\n",
    "                    dir_sizes[path_key] = dir_sizes.get(path_key, 0) + int(size)\n",
    "            case _:\n",
    "                raise Exception()\n"
   ]
  },
  {
   "cell_type": "code",
   "execution_count": 106,
   "id": "457cfe91-94ac-4d47-9aa2-2c3d9e1f532a",
   "metadata": {},
   "outputs": [
    {
     "data": {
      "text/plain": [
       "1611443"
      ]
     },
     "execution_count": 106,
     "metadata": {},
     "output_type": "execute_result"
    }
   ],
   "source": [
    "# part 1\n",
    "sum([dir_size for dir_size in dir_sizes.values() if dir_size <= 100000])"
   ]
  },
  {
   "cell_type": "code",
   "execution_count": 107,
   "id": "05d2839f-8a8d-40fb-974b-e0b75f4b2b3b",
   "metadata": {},
   "outputs": [
    {
     "data": {
      "text/plain": [
       "2086088"
      ]
     },
     "execution_count": 107,
     "metadata": {},
     "output_type": "execute_result"
    }
   ],
   "source": [
    "# part 2\n",
    "min([dir_size for dir_size in dir_sizes.values() if dir_size >= (max(dir_sizes.values()) - 40000000)])"
   ]
  }
 ],
 "metadata": {
  "kernelspec": {
   "display_name": "Python 3 (ipykernel)",
   "language": "python",
   "name": "python3"
  },
  "language_info": {
   "codemirror_mode": {
    "name": "ipython",
    "version": 3
   },
   "file_extension": ".py",
   "mimetype": "text/x-python",
   "name": "python",
   "nbconvert_exporter": "python",
   "pygments_lexer": "ipython3",
   "version": "3.10.8"
  }
 },
 "nbformat": 4,
 "nbformat_minor": 5
}
