{
 "cells": [
  {
   "cell_type": "code",
   "execution_count": 211,
   "id": "70d5e427-b809-45ec-bdad-a74b035bb3f0",
   "metadata": {},
   "outputs": [],
   "source": [
    "from typing import Tuple, Any\n",
    "\n",
    "Distance2D = Tuple[int, int]\n",
    "\n",
    "\n",
    "class Vector2D:\n",
    "    \n",
    "    def __init__(\n",
    "        self: 'Vector2D',\n",
    "        horizontal: int,\n",
    "        vertical: int\n",
    "    ):\n",
    "        self.horizontal: int = horizontal\n",
    "        self.vertical: int = vertical\n",
    "        \n",
    "    def reduce_to_single_step_vector(self: 'Vector2D') -> 'Vector2D':\n",
    "        return Vector2D(\n",
    "            horizontal = int(self.horizontal / abs(self.horizontal) if self.horizontal else 0),\n",
    "            vertical = int(self.vertical / abs(self.vertical) if self.vertical else 0)\n",
    "        )\n",
    "\n",
    "    def __eq__(self: 'Vector2D', other: 'Vector2D') -> bool:\n",
    "        return (self.horizontal == other.horizontal) and (self.vertical == other.vertical)\n",
    "    \n",
    "    def __isub__(self: 'Vector2D', other: 'Vector2D') -> 'Vector2D':\n",
    "        self.horizontal -= other.horizontal\n",
    "        self.vertical -= other.vertical\n",
    "        return self\n",
    "    \n",
    "    def __str__(self: 'Vector2D') -> str:\n",
    "        return f'Vector2D(horizontal={self.horizontal}, vertical={self.vertical})'\n",
    "    \n",
    "\n",
    "\n",
    "# class RelativePosition(Vector2D):\n",
    "    \n",
    "#     def __init__(\n",
    "#         self: Vector2D,\n",
    "#         pos_a,\n",
    "#         pos_b\n",
    "#     )\n",
    "#         self.horizontal = abs(self.horizontal)\n",
    "#         self.vertical = abs(self.vertical)\n",
    "#         super().__init__(horizontal, vertical)\n",
    "        \n",
    "        \n",
    "# class Distance(Vector2D):\n",
    "    \n",
    "#     def __init__(\n",
    "#         self: Vector2D,\n",
    "#         pos_a,\n",
    "#         pos_b\n",
    "#     )\n",
    "#         self.horizontal = abs(self.horizontal)\n",
    "#         self.vertical = abs(self.vertical)\n",
    "#         super().__init__(horizontal, vertical)\n",
    "                 \n",
    "        \n",
    "from dataclasses import dataclass\n",
    "\n",
    "@dataclass\n",
    "class Position:\n",
    "\n",
    "    def __init__(\n",
    "        self: 'Position', \n",
    "        start_x: int = 0,\n",
    "        start_y: int = 0\n",
    "    ):\n",
    "        self.x: int = start_x\n",
    "        self.y: int = start_y\n",
    "        \n",
    "    def touching_directly(self: 'Position', other: 'Position') -> bool:\n",
    "        touching_horizontally = (abs(self.x - other.x) == 1) and (self.y == other.y)\n",
    "        touching_vertically =  (abs(self.y - other.y) == 1) and (self.x == other.x)\n",
    "        return touching_horizontally or touching_vertically\n",
    "    \n",
    "    def touching_diagonally(self: 'Position', other: 'Position') -> bool:\n",
    "        return abs(self.x - other.x) == abs(self.y - other.y) == 1\n",
    "    \n",
    "    def __sub__(self: 'Position', other: 'Position'):\n",
    "        if not isinstance(other, type(self)): \n",
    "            return NotImplemented\n",
    "        return Vector2D(self.x - other.x, self.y - other.y)\n",
    "    \n",
    "    def __add__(self: 'Position', vec: Vector2D):\n",
    "        if not isinstance(vec, Vector2D): \n",
    "            return NotImplemented\n",
    "        return self.__class__(\n",
    "            start_x=self.x+vec.horizontal,\n",
    "            start_y=self.y+vec.vertical\n",
    "        )\n",
    "    \n",
    "    def __repr__(self: 'Position') -> str:\n",
    "        return f'Position(x={self.x}, y={self.y})'\n",
    "     \n",
    "    def __str__(self: 'Position') -> str:\n",
    "        return f'Position(x={self.x}, y={self.y})'\n",
    "    \n",
    "    def __hash__(self: 'Position') -> Any:\n",
    "        return (hash(self.x) ^ hash(self.y))\n",
    "    \n",
    "    def __eq__(self: 'Position', other: 'Position'):\n",
    "        if not isinstance(other, type(self)): \n",
    "            return NotImplemented\n",
    "        return (self.x == other.x) and (self.y == other.y)\n",
    "    \n",
    "    def __ne__(self: 'Position', other: 'Position'):\n",
    "        if not isinstance(other, type(self)): \n",
    "            return NotImplemented\n",
    "        return (self.x != other.x) or (self.y != other.y)\n",
    "    \n",
    "class Rope:\n",
    "    \n",
    "    def __init__(self: 'Rope'):\n",
    "        self.head = Position(0, 0)\n",
    "        self.tail = Position(0, 0)\n",
    "        self.tail_unique_fields: set[Position] = {Position(0, 0)}\n",
    "\n",
    "    def move_head(self: 'Rope', step: Vector2D):\n",
    "        self.head += step\n",
    "        self._adjust_tail()\n",
    "            \n",
    "    def _adjust_tail(self: 'Rope'):\n",
    "        if self.head.touching_directly(self.tail):\n",
    "            pass\n",
    "        elif self.head.touching_diagonally(self.tail):\n",
    "            pass\n",
    "        else:\n",
    "            head_tail_distance = self._calculate_head_tail_difference()\n",
    "            tail_step = head_tail_distance.reduce_to_single_step_vector()\n",
    "            self.tail += tail_step\n",
    "            self.tail_unique_fields.add(self.tail)\n",
    "    \n",
    "    def _calculate_head_tail_difference(self: 'Rope') -> int:\n",
    "        return self.head - self.tail\n",
    "\n",
    "\n",
    "def parse_line(line: str) -> Vector2D:\n",
    "    direction, steps = line[0], int(line[2])\n",
    "    match direction:\n",
    "        case 'L':\n",
    "            return Vector2D(horizontal=-1*steps, vertical=0)\n",
    "        case 'R':\n",
    "            return Vector2D(horizontal=steps, vertical=0)\n",
    "        case 'U':\n",
    "            return Vector2D(horizontal=0, vertical=steps)\n",
    "        case 'D':\n",
    "            return Vector2D(horizontal=0, vertical=-1*steps)\n",
    "        \n",
    "        \n",
    "rope = Rope()\n",
    "with open('input.txt') as file: \n",
    "    \n",
    "    while (line := file.readline()) != '':\n",
    "        change_head_position = parse_line(line)\n",
    "        while change_head_position != Vector2D(0, 0):\n",
    "            change_head_one_step = change_head_position.reduce_to_single_step_vector()\n",
    "            rope.move_head(change_head_one_step)\n",
    "            change_head_position -= change_head_one_step"
   ]
  },
  {
   "cell_type": "code",
   "execution_count": 1,
   "id": "6f1f4a36-2cb5-4ede-bba1-048865915e71",
   "metadata": {
    "tags": []
   },
   "outputs": [],
   "source": [
    "!poetry add aoc -q"
   ]
  },
  {
   "cell_type": "code",
   "execution_count": 2,
   "id": "39054f66-e3b8-4cd8-8797-8cd3a697b95f",
   "metadata": {},
   "outputs": [
    {
     "name": "stdout",
     "output_type": "stream",
     "text": [
      "Requirement already satisfied: aoc in /Users/plis003/Library/Caches/pypoetry/virtualenvs/day-9-r26j2Rq0-py3.10/lib/python3.10/site-packages (1.0.1)\n",
      "Requirement already satisfied: tabulate>=0.8.9 in /Users/plis003/Library/Caches/pypoetry/virtualenvs/day-9-r26j2Rq0-py3.10/lib/python3.10/site-packages (from aoc) (0.9.0)\n",
      "Requirement already satisfied: Click>=7.1.2 in /Users/plis003/Library/Caches/pypoetry/virtualenvs/day-9-r26j2Rq0-py3.10/lib/python3.10/site-packages (from aoc) (8.1.3)\n",
      "Requirement already satisfied: PyYAML>=5.4.1 in /Users/plis003/Library/Caches/pypoetry/virtualenvs/day-9-r26j2Rq0-py3.10/lib/python3.10/site-packages (from aoc) (6.0)\n",
      "\n",
      "\u001b[1m[\u001b[0m\u001b[34;49mnotice\u001b[0m\u001b[1;39;49m]\u001b[0m\u001b[39;49m A new release of pip available: \u001b[0m\u001b[31;49m22.2.2\u001b[0m\u001b[39;49m -> \u001b[0m\u001b[32;49m22.3.1\u001b[0m\n",
      "\u001b[1m[\u001b[0m\u001b[34;49mnotice\u001b[0m\u001b[1;39;49m]\u001b[0m\u001b[39;49m To update, run: \u001b[0m\u001b[32;49mpip install --upgrade pip\u001b[0m\n"
     ]
    }
   ],
   "source": [
    "!pip install aoc"
   ]
  },
  {
   "cell_type": "code",
   "execution_count": 3,
   "id": "2955259d-37d8-4977-9850-7bb2a72ca5aa",
   "metadata": {},
   "outputs": [
    {
     "ename": "ImportError",
     "evalue": "cannot import name 'day' from 'aoc' (/Users/plis003/Library/Caches/pypoetry/virtualenvs/day-9-r26j2Rq0-py3.10/lib/python3.10/site-packages/aoc/__init__.py)",
     "output_type": "error",
     "traceback": [
      "\u001b[0;31m---------------------------------------------------------------------------\u001b[0m",
      "\u001b[0;31mImportError\u001b[0m                               Traceback (most recent call last)",
      "Cell \u001b[0;32mIn[3], line 1\u001b[0m\n\u001b[0;32m----> 1\u001b[0m \u001b[38;5;28;01mfrom\u001b[39;00m \u001b[38;5;21;01maoc\u001b[39;00m \u001b[38;5;28;01mimport\u001b[39;00m day\n\u001b[1;32m      3\u001b[0m \u001b[38;5;28minput\u001b[39m \u001b[38;5;241m=\u001b[39m [(line\u001b[38;5;241m.\u001b[39msplit()[\u001b[38;5;241m0\u001b[39m], \u001b[38;5;28mint\u001b[39m(line\u001b[38;5;241m.\u001b[39msplit()[\u001b[38;5;241m1\u001b[39m])) \u001b[38;5;28;01mfor\u001b[39;00m line \u001b[38;5;129;01min\u001b[39;00m day(\u001b[38;5;241m9\u001b[39m)\u001b[38;5;241m.\u001b[39msplitlines()]\n\u001b[1;32m      6\u001b[0m \u001b[38;5;28;01mdef\u001b[39;00m \u001b[38;5;21mget_vector_change\u001b[39m(direction: \u001b[38;5;28mstr\u001b[39m):\n",
      "\u001b[0;31mImportError\u001b[0m: cannot import name 'day' from 'aoc' (/Users/plis003/Library/Caches/pypoetry/virtualenvs/day-9-r26j2Rq0-py3.10/lib/python3.10/site-packages/aoc/__init__.py)"
     ]
    }
   ],
   "source": [
    "from aoc import day\n",
    "\n",
    "input = [(line.split()[0], int(line.split()[1])) for line in day(9).splitlines()]\n",
    "\n",
    "\n",
    "def get_vector_change(direction: str):\n",
    "    match direction:\n",
    "        case 'L':\n",
    "            return [-1, 0]\n",
    "        case 'U':\n",
    "            return [0, 1]\n",
    "        case 'R':\n",
    "            return [1, 0]\n",
    "        case 'D':\n",
    "            return [0, -1]\n",
    "        case _:\n",
    "            print(\"Invalid direction argument\")\n",
    "            exit(-1)\n",
    "\n",
    "\n",
    "def move_tail(head: list[int], tail: list[int]) -> None:\n",
    "    Δ = [x - y for x, y in zip(head, tail)]\n",
    "\n",
    "    if abs(Δ[0]) > 1 or abs(Δ[1]) > 1:\n",
    "        tail[:] = [n + (1 if Δn >= 1 else -1 if Δn <= -1 else 0) for n, Δn in zip(tail, Δ)]\n",
    "\n",
    "\n",
    "head = [0, 0]\n",
    "tail = [0, 0]\n",
    "\n",
    "tail_parts = [[0, 0] for _ in range(9)]\n",
    "\n",
    "visited_p1 = set()\n",
    "visited_p2 = set()\n",
    "\n",
    "for direction, amount in input:\n",
    "    for i in range(amount):\n",
    "        head = [x + y for x, y in zip(head, get_vector_change(direction))]\n",
    "\n",
    "        move_tail(head, tail)\n",
    "        visited_p1.add(tuple(tail))\n",
    "\n",
    "        for i in range(len(tail_parts)):\n",
    "            move_tail(head if i == 0 else tail_parts[i - 1], tail_parts[i])\n",
    "\n",
    "            if i == 8:\n",
    "                visited_p2.add(tuple(tail_parts[i]))\n",
    "\n",
    "print(f\"Part 1: {len(visited_p1)}\")\n",
    "print(f\"Part 2: {len(visited_p2)}\")\n"
   ]
  },
  {
   "cell_type": "code",
   "execution_count": 213,
   "id": "d72e25d2-c7e4-42c5-95eb-6f34cadea32a",
   "metadata": {},
   "outputs": [
    {
     "data": {
      "text/plain": [
       "3045"
      ]
     },
     "execution_count": 213,
     "metadata": {},
     "output_type": "execute_result"
    }
   ],
   "source": [
    "len(rope.tail_unique_fields)"
   ]
  },
  {
   "cell_type": "code",
   "execution_count": 200,
   "id": "b2e6b173-139e-481b-ba7d-d31743dfefd9",
   "metadata": {},
   "outputs": [
    {
     "data": {
      "text/plain": [
       "False"
      ]
     },
     "execution_count": 200,
     "metadata": {},
     "output_type": "execute_result"
    }
   ],
   "source": [
    "rope.tail_unique_fields.pop() == rope.tail_unique_fields.pop()"
   ]
  },
  {
   "cell_type": "code",
   "execution_count": 193,
   "id": "3d14c34e-be2e-4da9-ae6e-dee5ba05350e",
   "metadata": {},
   "outputs": [
    {
     "ename": "TypeError",
     "evalue": "part1() missing 1 required positional argument: 'inp'",
     "output_type": "error",
     "traceback": [
      "\u001b[0;31m---------------------------------------------------------------------------\u001b[0m",
      "\u001b[0;31mTypeError\u001b[0m                                 Traceback (most recent call last)",
      "Cell \u001b[0;32mIn [193], line 1\u001b[0m\n\u001b[0;32m----> 1\u001b[0m part1()\n",
      "\u001b[0;31mTypeError\u001b[0m: part1() missing 1 required positional argument: 'inp'"
     ]
    }
   ],
   "source": [
    "part1()"
   ]
  },
  {
   "cell_type": "code",
   "execution_count": null,
   "id": "f525b900-6cf9-4627-9878-f98ad41661b4",
   "metadata": {},
   "outputs": [],
   "source": []
  }
 ],
 "metadata": {
  "kernelspec": {
   "display_name": "Python 3 (ipykernel)",
   "language": "python",
   "name": "python3"
  },
  "language_info": {
   "codemirror_mode": {
    "name": "ipython",
    "version": 3
   },
   "file_extension": ".py",
   "mimetype": "text/x-python",
   "name": "python",
   "nbconvert_exporter": "python",
   "pygments_lexer": "ipython3",
   "version": "3.10.8"
  }
 },
 "nbformat": 4,
 "nbformat_minor": 5
}
