{
 "cells": [
  {
   "cell_type": "code",
   "execution_count": 11,
   "id": "22597cf7-14a0-43d1-9867-207e784d5279",
   "metadata": {},
   "outputs": [],
   "source": [
    "import sys\n",
    "from collections import Counter"
   ]
  },
  {
   "cell_type": "code",
   "execution_count": 24,
   "id": "a32decae-6363-45bc-b998-08ffb8a5469c",
   "metadata": {},
   "outputs": [
    {
     "data": {
      "text/plain": [
       "97"
      ]
     },
     "execution_count": 24,
     "metadata": {},
     "output_type": "execute_result"
    }
   ],
   "source": [
    "ord('a')"
   ]
  },
  {
   "cell_type": "code",
   "execution_count": 26,
   "id": "5190d48f-18b6-4f0a-84fb-98f73ec344fc",
   "metadata": {},
   "outputs": [
    {
     "data": {
      "text/plain": [
       "7845"
      ]
     },
     "execution_count": 26,
     "metadata": {},
     "output_type": "execute_result"
    }
   ],
   "source": [
    "# part 1\n",
    "total_ord = 0\n",
    "\n",
    "with open('input.txt') as file:\n",
    "    for line in file:\n",
    "        line = line.rstrip()\n",
    "        comp_size = len(line) // 2\n",
    "        first_comp, second_comp = line[:comp_size], line[comp_size:]\n",
    "        assert len(first_comp) == len(second_comp)\n",
    "        shared_item_types = set(first_comp) & set(second_comp)\n",
    "        shared_item_type = shared_item_types.pop()\n",
    "        ord_item = ord(shared_item_type)\n",
    "        if ord('a') <= ord_item <= ord('z'):\n",
    "            real_ord = ord_item - ord('a') + 1\n",
    "        else:\n",
    "            real_ord = ord_item - ord('A') + 27\n",
    "        total_ord += real_ord\n",
    "        \n",
    "total_ord"
   ]
  },
  {
   "cell_type": "code",
   "execution_count": 42,
   "id": "4ec2aea1-2f90-430f-acae-b2253772a3fa",
   "metadata": {},
   "outputs": [],
   "source": [
    "def item_to_real_ord(item: str) -> int:\n",
    "    ord_item = ord(item)\n",
    "    if ord('a') <= ord_item <= ord('z'):\n",
    "        real_ord = ord_item - ord('a') + 1\n",
    "    else:\n",
    "        real_ord = ord_item - ord('A') + 27\n",
    "    return real_ord"
   ]
  },
  {
   "cell_type": "code",
   "execution_count": 43,
   "id": "8a0ec0a2-a6b8-446a-bdad-91b4b896c0d0",
   "metadata": {},
   "outputs": [
    {
     "name": "stdout",
     "output_type": "stream",
     "text": [
      "EOF\n"
     ]
    },
    {
     "data": {
      "text/plain": [
       "2790"
      ]
     },
     "execution_count": 43,
     "metadata": {},
     "output_type": "execute_result"
    }
   ],
   "source": [
    "# part 2\n",
    "from typing import TextIO\n",
    "\n",
    "total_ord = 0\n",
    "\n",
    "def process_group(file: TextIO) -> int:\n",
    "    group_items = None\n",
    "    for _ in range(3):\n",
    "        line = file.readline()\n",
    "        if len(line) == 0:\n",
    "             raise EOFError\n",
    "        elf_items = set(line.rstrip())\n",
    "        if not group_items:\n",
    "            group_items = elf_items\n",
    "        else: \n",
    "            group_items &= elf_items\n",
    "    group_item = group_items.pop()\n",
    "    return item_to_real_ord(group_item)\n",
    "    \n",
    "    \n",
    "with open('input.txt') as file:\n",
    "    file_end = False\n",
    "    while not file_end:\n",
    "        try:\n",
    "            group_ord = process_group(file)\n",
    "        except EOFError:\n",
    "            print(\"EOF\")\n",
    "            file_end = True\n",
    "        else:\n",
    "            total_ord += group_ord\n",
    "total_ord\n",
    "\n",
    "        \n",
    "    "
   ]
  },
  {
   "cell_type": "code",
   "execution_count": null,
   "id": "9fe1c086-e732-4a47-a175-aeaaf87f2150",
   "metadata": {},
   "outputs": [],
   "source": []
  }
 ],
 "metadata": {
  "kernelspec": {
   "display_name": "Python 3 (ipykernel)",
   "language": "python",
   "name": "python3"
  },
  "language_info": {
   "codemirror_mode": {
    "name": "ipython",
    "version": 3
   },
   "file_extension": ".py",
   "mimetype": "text/x-python",
   "name": "python",
   "nbconvert_exporter": "python",
   "pygments_lexer": "ipython3",
   "version": "3.10.7"
  }
 },
 "nbformat": 4,
 "nbformat_minor": 5
}
