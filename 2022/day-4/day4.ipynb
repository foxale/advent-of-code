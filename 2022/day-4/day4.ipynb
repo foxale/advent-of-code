{
 "cells": [
  {
   "cell_type": "code",
   "execution_count": 15,
   "id": "5ae245b6-1ba2-4f46-88c8-1783c8a9482a",
   "metadata": {},
   "outputs": [
    {
     "data": {
      "text/plain": [
       "453"
      ]
     },
     "execution_count": 15,
     "metadata": {},
     "output_type": "execute_result"
    }
   ],
   "source": [
    "# part 1\n",
    "total_count = 0\n",
    "with open('input.txt') as file: \n",
    "    for line in file: \n",
    "        line = line.rstrip()\n",
    "        first, second = line.split(',')\n",
    "        first_min, first_max = first.split('-')\n",
    "        second_min, second_max = second.split('-')\n",
    "        first_min, first_max = int(first_min), int(first_max)\n",
    "        second_min, second_max = int(second_min), int(second_max)\n",
    "        if first_min >= second_min and first_max <= second_max:\n",
    "            total_count += 1\n",
    "        elif second_min >= first_min and second_max <= first_max:\n",
    "            total_count += 1\n",
    "total_count"
   ]
  },
  {
   "cell_type": "code",
   "execution_count": 17,
   "id": "5654b107-e7da-4790-add6-a98a685f83b3",
   "metadata": {},
   "outputs": [
    {
     "data": {
      "text/plain": [
       "919"
      ]
     },
     "execution_count": 17,
     "metadata": {},
     "output_type": "execute_result"
    }
   ],
   "source": [
    "# part 2\n",
    "total_count = 0\n",
    "with open('input.txt') as file: \n",
    "    for line in file: \n",
    "        line = line.rstrip()\n",
    "        first, second = line.split(',')\n",
    "        first_min, first_max = first.split('-')\n",
    "        second_min, second_max = second.split('-')\n",
    "        first_min, first_max = int(first_min), int(first_max)\n",
    "        second_min, second_max = int(second_min), int(second_max)\n",
    "        if first_max < second_min or second_max < first_min:\n",
    "            pass\n",
    "        else:\n",
    "            total_count += 1\n",
    "total_count"
   ]
  },
  {
   "cell_type": "code",
   "execution_count": null,
   "id": "594f4096-778a-476b-aaa1-6182931652c5",
   "metadata": {},
   "outputs": [],
   "source": []
  }
 ],
 "metadata": {
  "kernelspec": {
   "display_name": "Python 3 (ipykernel)",
   "language": "python",
   "name": "python3"
  },
  "language_info": {
   "codemirror_mode": {
    "name": "ipython",
    "version": 3
   },
   "file_extension": ".py",
   "mimetype": "text/x-python",
   "name": "python",
   "nbconvert_exporter": "python",
   "pygments_lexer": "ipython3",
   "version": "3.10.7"
  }
 },
 "nbformat": 4,
 "nbformat_minor": 5
}
